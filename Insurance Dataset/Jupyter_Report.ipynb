{
 "cells": [
  {
   "cell_type": "markdown",
   "metadata": {},
   "source": [
    "# Introduction"
   ]
  },
  {
   "cell_type": "markdown",
   "metadata": {},
   "source": [
    "This report presents a series of inquiries pertaining to the \"Example_Application_Dataset\" provided by Falvey Insurance Group. The dataset consists of discrete and categorical data, comprised primarily of IDs and geographical information.\n",
    "\n",
    "There is one large assumption motivating this report: a date that is absent from any of the date fields implies that the assured, by way of the specified broker, was never offered an insurance policy. That is to say, if an \"applicationid\" is missing either a quote date (\"DateQuoteEntered\") or a date on which a quote was bound (\"DateQuoteBound\"), then the application either is still pending or has been rejected.\n",
    "\n",
    "This report was written in Python 3.8 and generated in LaTeX. I ommitted the lines of code to produce each output, but all the code used can be found in the Python Code file in this project folder on GitHub.\n",
    "\n",
    "After familiarizing myself with the dataset, I chose to investigate the following queries:<br>\n",
    "1. Top 10 broker groups with highest number of binding quotes.<br>\n",
    "2. Top 10 broker cities with highest number of binding quotes.<br>\n",
    "3. Comparison of applications and quotes received per year.<br>\n",
    "4. Duration of days between application submission, provided quote, and binding quote.<br>\n",
    "5. Interactive map of bound quotes and cities.<br>\n",
    "6. Logistic regression to predict bound quote."
   ]
  },
  {
   "cell_type": "code",
   "execution_count": 65,
   "metadata": {
    "tags": [
     "hide-output",
     "hide-input"
    ]
   },
   "outputs": [
    {
     "name": "stdout",
     "output_type": "stream",
     "text": [
      "['Data', 'Data Definitions']\n"
     ]
    }
   ],
   "source": [
    "import pandas as pd\n",
    "import seaborn as sn\n",
    "import matplotlib.pyplot as plt\n",
    "import numpy as np\n",
    "from functools import reduce\n",
    "from sklearn.linear_model import LogisticRegression\n",
    "from sklearn.model_selection import train_test_split\n",
    "from sklearn import metrics\n",
    "\n",
    "file = 'Example_Application_Dataset.xlsx'\n",
    "xl = pd.ExcelFile(file)\n",
    "print(xl.sheet_names)\n",
    "data = xl.parse('Data')\n",
    "# Remove Division since all are cargo.\n",
    "data = data.drop('Division',1)"
   ]
  },
  {
   "cell_type": "markdown",
   "metadata": {},
   "source": [
    "The column names are defined in the Excel spreadsheet and are shown again here:"
   ]
  },
  {
   "cell_type": "code",
   "execution_count": 66,
   "metadata": {
    "tags": [
     "remove-input"
    ]
   },
   "outputs": [
    {
     "name": "stdout",
     "output_type": "stream",
     "text": [
      "applicationid\n",
      "AssuredID\n",
      "BrokerOfficeID\n",
      "application_EnteredDate\n",
      "DateQuoteEntered\n",
      "DateQuoteBound\n",
      "Broker City\n",
      "Broker State\n",
      "Country\n",
      "BrokerGroupID\n",
      "UnderwriterID\n"
     ]
    }
   ],
   "source": [
    "# Col names\n",
    "for col in data.columns:\n",
    "    print(col) "
   ]
  },
  {
   "cell_type": "markdown",
   "metadata": {},
   "source": [
    "Based on the aforementioned assumption, I created a subset of the data that excludes entries or rows without dates (in-process/rejected applications) or \"bad\" or missing data. All ID columns/variables must have an integer value; otherwise, the entries are deleted. For example, entries whose BrokerGroupID is \"NONE/NA\" are deleted."
   ]
  },
  {
   "cell_type": "code",
   "execution_count": 67,
   "metadata": {
    "tags": [
     "remove-input"
    ]
   },
   "outputs": [],
   "source": [
    "# Create dataset without missing data\n",
    "clean = data.dropna()\n",
    "clean = clean[clean['BrokerGroupID'] != 'NONE/NA']\n",
    "# Convert BrokerGroupID to 'int' data type\n",
    "clean = clean.astype({'BrokerGroupID':'int'})"
   ]
  },
  {
   "cell_type": "markdown",
   "metadata": {},
   "source": [
    "## Top 10 Broker Groups with Highest Number of Binding Quotes"
   ]
  },
  {
   "cell_type": "markdown",
   "metadata": {},
   "source": [
    "The following chart shows the top 10 broker groups with the greatest number of binding quotes from 2018-2021. It also provides a sense of the upper scale of the total number of applications that are accepted just over 3 years. "
   ]
  },
  {
   "cell_type": "code",
   "execution_count": 68,
   "metadata": {
    "tags": [
     "remove-input"
    ]
   },
   "outputs": [
    {
     "data": {
      "text/plain": [
       "Text(0.5, 0, 'Total Number of Binding Quotes')"
      ]
     },
     "execution_count": 68,
     "metadata": {},
     "output_type": "execute_result"
    },
    {
     "data": {
      "image/png": "[encoded data removed]",
      "text/plain": [
       "<Figure size 432x288 with 1 Axes>"
      ]
     },
     "metadata": {
      "needs_background": "light"
     },
     "output_type": "display_data"
    }
   ],
   "source": [
    "broker_group = clean['BrokerGroupID'].value_counts()\n",
    "broker_group = broker_group.iloc[:10].plot(kind=\"barh\")\n",
    "broker_group.set_ylabel('Broker Group ID')\n",
    "broker_group.set_title('Top 10 Broker Groups with Bound Quotes')\n",
    "broker_group.set_xlabel('Total Number of Binding Quotes')"
   ]
  },
  {
   "cell_type": "markdown",
   "metadata": {},
   "source": [
    "## Top 10 Broker Cities with Highest Number of Binding Quotes"
   ]
  },
  {
   "cell_type": "markdown",
   "metadata": {},
   "source": [
    "Like the previous query, the chart below shows cities whose brokers have secured the highest number of binding quotes at the company. Query 5 in section 1.5 serves as a wider complement to this information."
   ]
  },
  {
   "cell_type": "code",
   "execution_count": 69,
   "metadata": {
    "tags": [
     "remove-input"
    ]
   },
   "outputs": [
    {
     "data": {
      "image/png": "[encoded data removed]",
      "text/plain": [
       "<Figure size 432x288 with 1 Axes>"
      ]
     },
     "metadata": {
      "needs_background": "light"
     },
     "output_type": "display_data"
    }
   ],
   "source": [
    "clean['Broker City'].value_counts()\n",
    "city = clean['Broker City'].value_counts()\n",
    "city_chart = city.iloc[:10].plot(kind=\"barh\")\n",
    "city_chart.set_ylabel('Cities')\n",
    "city_chart.set_title('Top 10 Cities with Binding Quotes')\n",
    "city_chart.set_xlabel('Number of Binding Quotes')\n",
    "plt.show()"
   ]
  },
  {
   "cell_type": "markdown",
   "metadata": {},
   "source": [
    "## Comparison of Applications and Quotes Received per Year"
   ]
  },
  {
   "cell_type": "markdown",
   "metadata": {},
   "source": [
    "The graph below compares applications that were received, applications that were provided quotes, and quotes that were accepted by both the company (conditioned by the underwriter) and the broker/assured. The bars serve as a comparison between the yearly counts, with the labels above each bar representing the y-axis value.\n",
    "\n",
    "From here, certain ratios can be calculated. For example, one interesting observation is that, despite over a 1000-applicant increase in 2020 over previous years, the ratio of binding quotes to applications received ultimately decreased (61% in 2018, 62% in 2019, and 57% in 2020)."
   ]
  },
  {
   "cell_type": "code",
   "execution_count": 70,
   "metadata": {
    "tags": [
     "remove-input"
    ]
   },
   "outputs": [
    {
     "data": {
      "image/png": "[encoded data removed]",
      "text/plain": [
       "<Figure size 432x288 with 1 Axes>"
      ]
     },
     "metadata": {
      "needs_background": "light"
     },
     "output_type": "display_data"
    }
   ],
   "source": [
    "# Create 3 new dfs for enter date, quote date, and bound date.\n",
    "# enter date df\n",
    "enter_date = data[['application_EnteredDate', 'applicationid', 'AssuredID']].copy()\n",
    "# consolidate by year and sum total number of applications for each year\n",
    "enter_date = enter_date['application_EnteredDate'].groupby([enter_date.application_EnteredDate.dt.year]).agg('count')\n",
    "# convert series to df\n",
    "enter_date = enter_date.to_frame()\n",
    "# rename index and column\n",
    "enter_date.index.names = ['Year']\n",
    "enter_date.columns = ['Applications Received']\n",
    "\n",
    "# quote date df\n",
    "quote_date = data[['DateQuoteEntered', 'applicationid', 'AssuredID']].copy()\n",
    "# remove NAs\n",
    "quote_date = quote_date.dropna()\n",
    "# consolidate by year and sum total number of quotes provided per year.\n",
    "quote_date = quote_date['DateQuoteEntered'].groupby([quote_date.DateQuoteEntered.dt.year]).agg('count')\n",
    "# convert series to df\n",
    "quote_date = quote_date.to_frame()\n",
    "# rename index and column\n",
    "quote_date.index.names = ['Year']\n",
    "quote_date.columns = ['Quotes Provided']\n",
    "\n",
    "# bound date df\n",
    "bound_date = data[['DateQuoteBound', 'applicationid', 'AssuredID']].copy()\n",
    "# remove NAs\n",
    "bound_date = bound_date.dropna()\n",
    "# consolidate by year and sum total number of applications for each year\n",
    "bound_date = bound_date['DateQuoteBound'].groupby([bound_date.DateQuoteBound.dt.year]).agg('count')\n",
    "# convert series to df\n",
    "bound_date = bound_date.to_frame()\n",
    "# rename index and column\n",
    "bound_date.index.names = ['Year']\n",
    "bound_date.columns = ['Binding Quotes']\n",
    "\n",
    "# Merge all three dataframes and then plot\n",
    "dates = [enter_date, quote_date, bound_date]\n",
    "dates = reduce(lambda left,right: pd.merge(left,right,on='Year'), dates)\n",
    "# append 2021 data for binding quotes\n",
    "#dates = dates.append(bound_date.iloc[3])\n",
    "# replace NAs with zero for 2021\n",
    "#dates = dates.replace('NaN', 0)\n",
    "\n",
    "# Plot the merged df\n",
    "dates_plot = dates.plot(kind=\"bar\")\n",
    "dates_plot.set_ylabel('Count')\n",
    "dates_plot.set_title('Applications and Quotes Per Year')\n",
    "for p in dates_plot.patches:\n",
    "    dates_plot.annotate(str(int(p.get_height())),(p.get_x()+p.get_width()/2.,p.get_height()),ha='center',va='center',xytext=(0, 10), textcoords='offset points')\n",
    "plt.show()"
   ]
  },
  {
   "cell_type": "markdown",
   "metadata": {},
   "source": [
    "## Duration of Days between Application Statuses"
   ]
  },
  {
   "cell_type": "markdown",
   "metadata": {},
   "source": [
    "The table below is a quick statistical summary of the days between application statuses. The first column is the duration of an application received and a quote provided. The second column is the duration of a quote provided and a binding quote. The third column is the duration of an application received and a binding quote.\n",
    "\n",
    "The idea here is to get a quick overview of the duration of the applications in days. Once again, we look only at applications that received a binding quote.\n",
    "\n",
    "The \"count\" is the total number of applications with same-day processing (i.e., all three dates for each application are the same). Impressively, there is an average of 8 days once an application is received and a quote provided. As expected, the time between achieving a binding quote and application received or quote provided is much longer (nominally 4 times as long).\n",
    "\n",
    "The outliers are interesting to look at, too. For example, from 2018 to 2020, the longest time from the date an application was received to a date a quote was bound was nearly 2.5 years. This table is useful for investigating outliers by cross referencing the \"applicationid\" in question.\n",
    "\n",
    "Note that the min of -1 days is a result of the differences caused by the timestamp -- the minimum number of days is 0 for each application."
   ]
  },
  {
   "cell_type": "code",
   "execution_count": 71,
   "metadata": {
    "tags": [
     "remove-input"
    ]
   },
   "outputs": [
    {
     "data": {
      "text/html": [
       "<div>\n",
       "<style scoped>\n",
       "    .dataframe tbody tr th:only-of-type {\n",
       "        vertical-align: middle;\n",
       "    }\n",
       "\n",
       "    .dataframe tbody tr th {\n",
       "        vertical-align: top;\n",
       "    }\n",
       "\n",
       "    .dataframe thead th {\n",
       "        text-align: right;\n",
       "    }\n",
       "</style>\n",
       "<table border=\"1\" class=\"dataframe\">\n",
       "  <thead>\n",
       "    <tr style=\"text-align: right;\">\n",
       "      <th></th>\n",
       "      <th>Quote-Application-Duration</th>\n",
       "      <th>Binding-Quote-Duration</th>\n",
       "      <th>Binding-Application-Duration</th>\n",
       "    </tr>\n",
       "  </thead>\n",
       "  <tbody>\n",
       "    <tr>\n",
       "      <th>count</th>\n",
       "      <td>6247</td>\n",
       "      <td>6247</td>\n",
       "      <td>6247</td>\n",
       "    </tr>\n",
       "    <tr>\n",
       "      <th>mean</th>\n",
       "      <td>8 days 09:13:53.965903633</td>\n",
       "      <td>33 days 00:35:08.168881063</td>\n",
       "      <td>41 days 09:49:02.134784696</td>\n",
       "    </tr>\n",
       "    <tr>\n",
       "      <th>std</th>\n",
       "      <td>27 days 07:58:37.324457199</td>\n",
       "      <td>47 days 11:26:41.483782898</td>\n",
       "      <td>54 days 03:46:37.910931347</td>\n",
       "    </tr>\n",
       "    <tr>\n",
       "      <th>min</th>\n",
       "      <td>-1 days +08:52:00</td>\n",
       "      <td>-1 days +06:55:04</td>\n",
       "      <td>0 days 00:00:00</td>\n",
       "    </tr>\n",
       "    <tr>\n",
       "      <th>25%</th>\n",
       "      <td>0 days 00:00:00</td>\n",
       "      <td>11 days 14:08:19</td>\n",
       "      <td>15 days 16:12:31.500000</td>\n",
       "    </tr>\n",
       "    <tr>\n",
       "      <th>50%</th>\n",
       "      <td>0 days 00:00:00</td>\n",
       "      <td>22 days 08:55:58</td>\n",
       "      <td>29 days 10:11:57</td>\n",
       "    </tr>\n",
       "    <tr>\n",
       "      <th>75%</th>\n",
       "      <td>5 days 13:18:52</td>\n",
       "      <td>39 days 04:32:03</td>\n",
       "      <td>48 days 14:07:48</td>\n",
       "    </tr>\n",
       "    <tr>\n",
       "      <th>max</th>\n",
       "      <td>538 days 09:49:24</td>\n",
       "      <td>756 days 04:42:47</td>\n",
       "      <td>866 days 12:04:41</td>\n",
       "    </tr>\n",
       "  </tbody>\n",
       "</table>\n",
       "</div>"
      ],
      "text/plain": [
       "       Quote-Application-Duration      Binding-Quote-Duration  \\\n",
       "count                        6247                        6247   \n",
       "mean    8 days 09:13:53.965903633  33 days 00:35:08.168881063   \n",
       "std    27 days 07:58:37.324457199  47 days 11:26:41.483782898   \n",
       "min             -1 days +08:52:00           -1 days +06:55:04   \n",
       "25%               0 days 00:00:00            11 days 14:08:19   \n",
       "50%               0 days 00:00:00            22 days 08:55:58   \n",
       "75%               5 days 13:18:52            39 days 04:32:03   \n",
       "max             538 days 09:49:24           756 days 04:42:47   \n",
       "\n",
       "      Binding-Application-Duration  \n",
       "count                         6247  \n",
       "mean    41 days 09:49:02.134784696  \n",
       "std     54 days 03:46:37.910931347  \n",
       "min                0 days 00:00:00  \n",
       "25%        15 days 16:12:31.500000  \n",
       "50%               29 days 10:11:57  \n",
       "75%               48 days 14:07:48  \n",
       "max              866 days 12:04:41  "
      ]
     },
     "execution_count": 71,
     "metadata": {},
     "output_type": "execute_result"
    }
   ],
   "source": [
    "# calculate difference between two date columns as a new column\n",
    "clean['Quote-Application-Duration'] = clean.DateQuoteEntered-clean.application_EnteredDate\n",
    "clean['Binding-Quote-Duration'] = clean.DateQuoteBound-clean.DateQuoteEntered\n",
    "clean['Binding-Application-Duration'] = clean.DateQuoteBound-clean.application_EnteredDate\n",
    "\n",
    "# combine into new df\n",
    "clean_duration = pd.DataFrame({'Quote-Application-Duration': clean['Quote-Application-Duration'], 'Binding-Quote-Duration': clean['Binding-Quote-Duration'], 'Binding-Application-Duration': clean['Binding-Application-Duration']})\n",
    "#clean['Quote-Application-Duration'] = pd.to_datetime(clean['Quote-Application-Duration']).dt.date\n",
    "\n",
    "# summary statistics of application and quote durations\n",
    "clean_stats = clean_duration.describe()\n",
    "clean_stats"
   ]
  },
  {
   "cell_type": "markdown",
   "metadata": {},
   "source": [
    "## Interactive Map of Bound Quotes and Cities"
   ]
  },
  {
   "cell_type": "markdown",
   "metadata": {},
   "source": [
    "To mix it up a little bit, and because I find it so much easier to perform in Excel, I created a map showing the total number of bound quotes per year per city.\n",
    "\n",
    "This map is a 3D map that I included in the Excel workbook (\"Example_Application_Dataset_pivot\"). I made a couple small tweaks to the Date Definitions sheet (for clarity). Again, I excluded applicationid entries with empty dates and removed entries where BrokerGroupID=\"NONE/NA\". I also converted the Broker City and Broker State columns/variables to Excel's geography data type.\n",
    "\n",
    "I created a pivot table, shown on the Pivot sheet, to create a table with specific conditions: columns are years 2018, 2019, and 2020; Broker City comprises the rows; and the values are DateQuoteBound. I copied this table to another worksheet, Yearly Bound Quotes, where I produced a 3D Map. This map can be viewed by going to the Insert tab, clicking \"3D Map\" from the dropdown menu, and selecting \"Open 3D Maps\".\n",
    "\n",
    "The 3D map will open a new Excel window that is still linked to the workbook. My idea behind this map was to try to capture three notions quickly:\n",
    "1. To view the geographic footprint of applications that received a binding quote per broker group.\n",
    "2. To compare the total number of \"complete\" applications (those with a binding quote) per year.\n",
    "\n",
    "This map is intended to provide a cursory look at the data to help answer questions such as, How did complete applications look for the brokers in Boston in 2020 compared to those in 2019? Are there other metropolitan areas in states where Falvey does not have a connection to a broker or broker group. For example, I could imagine investigating relationships with brokers in Madison, WI, which is the state's most populous city and which could benefit from Falvey Shippers Insurance.\n",
    "\n"
   ]
  },
  {
   "cell_type": "markdown",
   "metadata": {},
   "source": [
    "## Logistic Regression to Predict Bound Quote"
   ]
  },
  {
   "cell_type": "markdown",
   "metadata": {},
   "source": [
    "This final section is a quick exploratory analysis exercise on the dataset to clean statistical insights, as opposed to the visual information in prior sections. Simple methods, such as aPearson correlation matrix, cannot be used because we are looking at the relationship between categorical variables and binary. There are no continuous variables, and most of the categorical variables are multi-level. AChi-square test of independence of variables in a contingency would have been interesting, but there are simply too many categorical types in each variable, which could lead to unwieldy or unreliable results.\n",
    "\n",
    "Instead, we will attempt to see if the dataset includes any predictive elements by way of logistic regression, which is a means to find the probability of a certain value. As mentioned, the dataset primarily consists of categorical variables and no continuous or binary variables. Logistic regression requires a response (dependent variable) that is binary. Our response variable here, or the variable we are looking to predict, is DateQuoteBound, which will need to undergo a primary conversion. If DateQuoteBound shows a date, then it will receive a value of 1; otherwise, no date equals 0. At this stage, we will also encode Broker City into categories (each unique city will be a unique number).\n",
    "\n",
    "Here are the first 10 rows of the trimmed, converted dataset.\n"
   ]
  },
  {
   "cell_type": "code",
   "execution_count": 72,
   "metadata": {},
   "outputs": [
    {
     "name": "stderr",
     "output_type": "stream",
     "text": [
      "C:\\Users\\blubb\\anaconda3\\lib\\site-packages\\pandas\\core\\indexing.py:1637: SettingWithCopyWarning: \n",
      "A value is trying to be set on a copy of a slice from a DataFrame\n",
      "\n",
      "See the caveats in the documentation: https://pandas.pydata.org/pandas-docs/stable/user_guide/indexing.html#returning-a-view-versus-a-copy\n",
      "  self._setitem_single_block(indexer, value, name)\n"
     ]
    },
    {
     "data": {
      "text/html": [
       "<div>\n",
       "<style scoped>\n",
       "    .dataframe tbody tr th:only-of-type {\n",
       "        vertical-align: middle;\n",
       "    }\n",
       "\n",
       "    .dataframe tbody tr th {\n",
       "        vertical-align: top;\n",
       "    }\n",
       "\n",
       "    .dataframe thead th {\n",
       "        text-align: right;\n",
       "    }\n",
       "</style>\n",
       "<table border=\"1\" class=\"dataframe\">\n",
       "  <thead>\n",
       "    <tr style=\"text-align: right;\">\n",
       "      <th></th>\n",
       "      <th>applicationid</th>\n",
       "      <th>AssuredID</th>\n",
       "      <th>BrokerGroupID</th>\n",
       "      <th>DateQuoteBound</th>\n",
       "      <th>Broker City</th>\n",
       "      <th>UnderwriterID</th>\n",
       "    </tr>\n",
       "  </thead>\n",
       "  <tbody>\n",
       "    <tr>\n",
       "      <th>0</th>\n",
       "      <td>319838</td>\n",
       "      <td>2241</td>\n",
       "      <td>1002</td>\n",
       "      <td>0</td>\n",
       "      <td>234</td>\n",
       "      <td>8115.0</td>\n",
       "    </tr>\n",
       "    <tr>\n",
       "      <th>1</th>\n",
       "      <td>321405</td>\n",
       "      <td>2241</td>\n",
       "      <td>1002</td>\n",
       "      <td>0</td>\n",
       "      <td>234</td>\n",
       "      <td>8115.0</td>\n",
       "    </tr>\n",
       "    <tr>\n",
       "      <th>2</th>\n",
       "      <td>256240</td>\n",
       "      <td>5039</td>\n",
       "      <td>1007</td>\n",
       "      <td>1</td>\n",
       "      <td>43</td>\n",
       "      <td>8115.0</td>\n",
       "    </tr>\n",
       "    <tr>\n",
       "      <th>3</th>\n",
       "      <td>281979</td>\n",
       "      <td>5039</td>\n",
       "      <td>1007</td>\n",
       "      <td>1</td>\n",
       "      <td>43</td>\n",
       "      <td>8115.0</td>\n",
       "    </tr>\n",
       "    <tr>\n",
       "      <th>4</th>\n",
       "      <td>329088</td>\n",
       "      <td>5039</td>\n",
       "      <td>1007</td>\n",
       "      <td>1</td>\n",
       "      <td>43</td>\n",
       "      <td>8115.0</td>\n",
       "    </tr>\n",
       "  </tbody>\n",
       "</table>\n",
       "</div>"
      ],
      "text/plain": [
       "   applicationid  AssuredID BrokerGroupID  DateQuoteBound  Broker City  \\\n",
       "0         319838       2241          1002               0          234   \n",
       "1         321405       2241          1002               0          234   \n",
       "2         256240       5039          1007               1           43   \n",
       "3         281979       5039          1007               1           43   \n",
       "4         329088       5039          1007               1           43   \n",
       "\n",
       "   UnderwriterID  \n",
       "0         8115.0  \n",
       "1         8115.0  \n",
       "2         8115.0  \n",
       "3         8115.0  \n",
       "4         8115.0  "
      ]
     },
     "execution_count": 72,
     "metadata": {},
     "output_type": "execute_result"
    }
   ],
   "source": [
    "# remove NAs from BrokerGroupID column\n",
    "data_trim = data[['applicationid', 'AssuredID', 'BrokerGroupID','DateQuoteBound','Broker City','UnderwriterID']].copy()\n",
    "data_trim = data_trim[data_trim['BrokerGroupID'] != 'NONE/NA']\n",
    "# convert DateQuoteBound to brinary. date exists = 1, NaN = 0\n",
    "data_trim['DateQuoteBound'].loc[~data_trim['DateQuoteBound'].isnull()] = 1  # not nan\n",
    "data_trim['DateQuoteBound'].loc[data_trim['DateQuoteBound'].isnull()] = 0   # nan\n",
    "data_trim['DateQuoteBound'] = pd.to_numeric(data_trim['DateQuoteBound']) # convert new binary data to int type\n",
    "# label encode Broker City\n",
    "data_trim['Broker City'] = data_trim['Broker City'].astype('category') # convert variable to \"category\" type\n",
    "data_trim['Broker City'] = data_trim['Broker City'].cat.codes # encode the variable using cat.codes accessor\n",
    "data_trim.head() # first 10 rows of converted dataframe\n",
    "#data_trim.dtypes"
   ]
  },
  {
   "cell_type": "code",
   "execution_count": 73,
   "metadata": {},
   "outputs": [],
   "source": [
    "# Logistic regression using DateQuoteBound as response (dependent) variable\n",
    "X = data_trim[['applicationid', 'AssuredID', 'BrokerGroupID','Broker City','UnderwriterID']]\n",
    "X = X.dropna() # remove NAs\n",
    "X = X.reset_index() # rest index to match y\n",
    "del X['index']\n",
    "y = data_trim['DateQuoteBound'] # reset index to match X\n",
    "y.drop(y.tail(97).index,inplace = True) # delete rows to compensate for NAs deletion\n",
    "y = y.reset_index()\n",
    "del y['index']"
   ]
  },
  {
   "cell_type": "markdown",
   "metadata": {},
   "source": [
    "First, we will generate a logit function to glean statistical information about a logistic regression model that is generated. According to the table below, the model iterated over the data only 5 times to optimize.\n",
    "\n",
    "Notice that that the p-values of three variables, applicationid, Broker City, and UnderwriterID, is greater than 0.05. This indicates there is probably not a relationship between the variables and hence they will not contribute to the predictive accuracy of the model; they are potentially irrelevant. Thus, those variables will be excluded from the model.\n",
    "\n",
    "This means only the AssuredID and BrokerGroupID are the variables used to predict the probability that there will be a bound quote."
   ]
  },
  {
   "cell_type": "code",
   "execution_count": 74,
   "metadata": {},
   "outputs": [
    {
     "name": "stdout",
     "output_type": "stream",
     "text": [
      "Optimization terminated successfully.\n",
      "         Current function value: 0.586391\n",
      "         Iterations 5\n",
      "                          Results: Logit\n",
      "==================================================================\n",
      "Model:              Logit            Pseudo R-squared: 0.106      \n",
      "Dependent Variable: DateQuoteBound   AIC:              12120.1406 \n",
      "Date:               2021-04-09 13:00 BIC:              12156.3527 \n",
      "No. Observations:   10326            Log-Likelihood:   -6055.1    \n",
      "Df Model:           4                LL-Null:          -6772.5    \n",
      "Df Residuals:       10321            LLR p-value:      1.9811e-309\n",
      "Converged:          1.0000           Scale:            1.0000     \n",
      "No. Iterations:     5.0000                                        \n",
      "------------------------------------------------------------------\n",
      "                   Coef.  Std.Err.    z     P>|z|   [0.025  0.975]\n",
      "------------------------------------------------------------------\n",
      "applicationid      0.0000   0.0000   1.5859 0.1128 -0.0000  0.0000\n",
      "AssuredID         -0.0000   0.0000 -33.0516 0.0000 -0.0000 -0.0000\n",
      "BrokerGroupID      0.0016   0.0002   7.5744 0.0000  0.0012  0.0020\n",
      "Broker City       -0.0001   0.0003  -0.2326 0.8160 -0.0006  0.0005\n",
      "UnderwriterID      0.0000   0.0000   1.5368 0.1243 -0.0000  0.0000\n",
      "==================================================================\n",
      "\n"
     ]
    },
    {
     "data": {
      "text/plain": [
       "array([[0],\n",
       "       [0],\n",
       "       [1],\n",
       "       ...,\n",
       "       [0],\n",
       "       [0],\n",
       "       [0]], dtype=int64)"
      ]
     },
     "execution_count": 74,
     "metadata": {},
     "output_type": "execute_result"
    }
   ],
   "source": [
    "import statsmodels.api as sm\n",
    "logit_model=sm.Logit(y,X.astype(float))\n",
    "result=logit_model.fit()\n",
    "print(result.summary2())\n",
    "np.asarray(y)"
   ]
  },
  {
   "cell_type": "markdown",
   "metadata": {},
   "source": [
    "With those variables removed, we can train a logistic regression model by splitting the data into test and training data. Here, I used 25% of the data for the test set, which a way to test the accuracy of the model. Again, the model is attempting to predict, with some degree of accuracy, the probability that a bound quote will be achieved based on the assured and broker group.\n",
    "\n",
    "According to the results below, we achieved a model accuracy of 70%, meaning the model correctly assigned a bound quote to applications 70% of the time. The confusion matrix indicates that 400 + 1400 predictions are correct and 220 + 540 predictions are incorrect."
   ]
  },
  {
   "cell_type": "code",
   "execution_count": 75,
   "metadata": {},
   "outputs": [
    {
     "name": "stderr",
     "output_type": "stream",
     "text": [
      "C:\\Users\\blubb\\anaconda3\\lib\\site-packages\\sklearn\\utils\\validation.py:63: DataConversionWarning: A column-vector y was passed when a 1d array was expected. Please change the shape of y to (n_samples, ), for example using ravel().\n",
      "  return f(*args, **kwargs)\n"
     ]
    },
    {
     "name": "stdout",
     "output_type": "stream",
     "text": [
      "Accuracy of logistic regression classifier on test set: 0.70\n"
     ]
    },
    {
     "data": {
      "image/png": "[encoded data removed]",
      "text/plain": [
       "<Figure size 432x288 with 2 Axes>"
      ]
     },
     "metadata": {
      "needs_background": "light"
     },
     "output_type": "display_data"
    }
   ],
   "source": [
    "X = X[['AssuredID', 'BrokerGroupID']]\n",
    "X_train,X_test,y_train,y_test = train_test_split(X,y,test_size=0.25,random_state=0)\n",
    "from sklearn.metrics import confusion_matrix\n",
    "'''\n",
    "logreg = LogisticRegression()\n",
    "logreg.fit(X_train, y_train)\n",
    "y_pred = logreg.predict(X_test)\n",
    "print('Accuracy of logistic regression classifier on test set: {:.2f}'.format(logreg.score(X_test, y_test)))\n",
    "confusion_matrix = confusion_matrix(y_test, y_pred)\n",
    "print(confusion_matrix)'''\n",
    "logistic_regression= LogisticRegression()\n",
    "logistic_regression.fit(X_train,y_train)\n",
    "y_pred=logistic_regression.predict(X_test)\n",
    "confusion_matrix = confusion_matrix(y_test, y_pred)\n",
    "sn.heatmap(confusion_matrix, annot=True)\n",
    "print('Accuracy of logistic regression classifier on test set: {:.2f}'.format(logreg.score(X_test, y_test)))\n",
    "plt.show()"
   ]
  },
  {
   "cell_type": "markdown",
   "metadata": {},
   "source": [
    "Finally, we will generate a receiver operating characteristic (ROC) curve, which is a common tool used with binary classifiers. The ROC simply uses different metrics to verify the accuracy of the model. Below, the dotted line represents the ROC curve of a random binary classifier; a good classifier stays as far away from that line as possible (toward the top-left corner).\n",
    "\n",
    "Our concern rests on the desire for a high true positive rate and a low false positive rate. To quantitatively signify how \"good\" the blue curve is (i.e., how well , we look at the area under the curve, which is 0.64, meaning that the logistic regression model's predictions are 64% accurate. Whereas our computed accuracy of 70% was computed using fractions of correctly and incorrectly predicted outputs, the area under the ROC curve represents the probability that correct and incorrect predictions are sufficiently ranked."
   ]
  },
  {
   "cell_type": "code",
   "execution_count": 76,
   "metadata": {},
   "outputs": [
    {
     "data": {
      "image/png": "[encoded data removed]",
      "text/plain": [
       "<Figure size 432x288 with 1 Axes>"
      ]
     },
     "metadata": {
      "needs_background": "light"
     },
     "output_type": "display_data"
    }
   ],
   "source": [
    "from sklearn.metrics import roc_auc_score\n",
    "from sklearn.metrics import roc_curve\n",
    "logit_roc_auc = roc_auc_score(y_test, logreg.predict(X_test))\n",
    "fpr, tpr, thresholds = roc_curve(y_test, logreg.predict_proba(X_test)[:,1])\n",
    "plt.figure()\n",
    "plt.plot(fpr, tpr, label='Logistic Regression (area = %0.2f)' % logit_roc_auc)\n",
    "plt.plot([0, 1], [0, 1],'r--')\n",
    "plt.xlim([0.0, 1.0])\n",
    "plt.ylim([0.0, 1.05])\n",
    "plt.xlabel('False Positive Rate')\n",
    "plt.ylabel('True Positive Rate')\n",
    "plt.title('Receiver operating characteristic')\n",
    "plt.legend(loc=\"lower right\")\n",
    "plt.savefig('Log_ROC')\n",
    "plt.show()"
   ]
  },
  {
   "cell_type": "markdown",
   "metadata": {},
   "source": [
    "# Conclusion"
   ]
  },
  {
   "cell_type": "markdown",
   "metadata": {},
   "source": [
    "This report sought to pose and answer 6 queries. The first 4 queries use minimal data manipulation techniques to glean high-level insights from the data. That is to say, they provide the viewer with quick \"nuggets\" of facts based on ratios, ranking, and overall performance of bound quotes versus applications received within the context of broker groups and cities.\n",
    "\n",
    "Some interesting questions and observations arose as a result. For example, broker groups located in west-coast cities have the highest number of binding quotes with the company. In addition, despite an increase in applications, quotes provided, and quotes bound, the ratio of applications received to quotes bound has been roughly the same from 2018-2020. It is important to note that 2021 data were omitted from this report due their being only quote bound dates; no applications were submitted, and no quotes were provided in 2021, according to the dataset.\n",
    "\n",
    "Similarly, the fifth query switches gears by looking at the Excel spreadsheet directly to generate an interactive, geographic map of the data to visualize broker groups located in cities primarily in the United States and the number of bound quotes assigned to them. It is intended to provide a cursory glance at the company's application footprint.\n",
    "\n",
    "Finally, the sixth query takes a more in-depth approach by attempting to use the dataset to predict whether a bound quote could be predicted based on the assured and broker group. This required a bit more data manipulation for the data to be used in a classification model. Ultimately, we achieved a model accuracy of 70%, with an area under the ROC curve of 64%, suggesting that the model did an \"OK\" job at predicting the probability of an application achieving a bound quote. In order to improve this model, I would encourage more data (variables plus entries), as well as implementing more advanced, accurate classification techniques found in machine learning. Logistic regression is fast, easy, and mostly reliable, but there are more accurate techniques available."
   ]
  }
 ],
 "metadata": {
  "celltoolbar": "Edit Metadata",
  "hide_input": false,
  "kernelspec": {
   "display_name": "Python 3",
   "language": "python",
   "name": "python3"
  },
  "language_info": {
   "codemirror_mode": {
    "name": "ipython",
    "version": 3
   },
   "file_extension": ".py",
   "mimetype": "text/x-python",
   "name": "python",
   "nbconvert_exporter": "python",
   "pygments_lexer": "ipython3",
   "version": "3.8.3"
  }
 },
 "nbformat": 4,
 "nbformat_minor": 4
}
