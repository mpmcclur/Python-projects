{
 "cells": [
  {
   "cell_type": "code",
   "execution_count": 1,
   "metadata": {},
   "outputs": [],
   "source": [
    "# import packages\n",
    "import matplotlib.pyplot as plt\n",
    "import seaborn as sns; sns.set()  # for plot styling\n",
    "import numpy as np\n",
    "import pandas as pd\n",
    "from sklearn.cluster import KMeans\n",
    "from scipy.spatial.distance import cdist\n",
    "import plotly\n",
    "import plotly.graph_objs as go\n",
    "\n",
    "# import data\n",
    "fed_paper = pd.read_csv(\"fedPapers85.csv\")\n",
    "# remove 2nd column\n",
    "del fed_paper[\"filename\"]\n",
    "# duplicate data to replace Names column with numbers\n",
    "mapping = {'set': 1, 'test': 2}\n",
    "fed_paper2 = fed_paper.replace({'Hamilton': 1, 'Madison': 2, 'Jay': 3, 'HM':4, 'dispt':5})\n",
    "# create variables containing the predictive variables x and the variable to be predicted y\n",
    "fed_x = fed_paper2.drop(['author'],axis=1)\n",
    "fed_x_train = fed_x[12:]\n",
    "fed_x_test = fed_x[0:11]\n",
    "fed_y = fed_paper2['author']\n",
    "fed_y_train = fed_y[12:]\n",
    "fed_y_test = fed_y[0:11]\n",
    "# test and train data\n",
    "fed_paper_test = fed_paper2[0:11]\n",
    "fed_paper_train = fed_paper2[12:]\n",
    "\n",
    "# just values\n",
    "fed_values = fed_paper2.values"
   ]
  },
  {
   "cell_type": "code",
   "execution_count": 18,
   "metadata": {},
   "outputs": [
    {
     "name": "stdout",
     "output_type": "stream",
     "text": [
      "***** Describe *****\n",
      "          author          a        all       also         an        and  \\\n",
      "count  85.000000  85.000000  85.000000  85.000000  85.000000  85.000000   \n",
      "mean    1.917647   0.293235   0.052835   0.007659   0.068388   0.384624   \n",
      "std     1.407563   0.076799   0.023633   0.008409   0.029630   0.114493   \n",
      "min     1.000000   0.096000   0.015000   0.000000   0.009000   0.217000   \n",
      "25%     1.000000   0.240000   0.035000   0.000000   0.049000   0.319000   \n",
      "50%     1.000000   0.299000   0.050000   0.007000   0.071000   0.358000   \n",
      "75%     2.000000   0.349000   0.066000   0.013000   0.085000   0.413000   \n",
      "max     5.000000   0.466000   0.127000   0.047000   0.179000   0.821000   \n",
      "\n",
      "             any        are         as         at    ...            was  \\\n",
      "count  85.000000  85.000000  85.000000  85.000000    ...      85.000000   \n",
      "mean    0.041612   0.077071   0.124200   0.044271    ...       0.025835   \n",
      "std     0.022785   0.034450   0.040605   0.026210    ...       0.029051   \n",
      "min     0.000000   0.013000   0.027000   0.000000    ...       0.000000   \n",
      "25%     0.025000   0.051000   0.100000   0.026000    ...       0.009000   \n",
      "50%     0.043000   0.068000   0.124000   0.038000    ...       0.015000   \n",
      "75%     0.056000   0.102000   0.144000   0.063000    ...       0.032000   \n",
      "max     0.114000   0.163000   0.252000   0.118000    ...       0.189000   \n",
      "\n",
      "            were       what       when      which        who       will  \\\n",
      "count  85.000000  85.000000  85.000000  85.000000  85.000000  85.000000   \n",
      "mean    0.020224   0.012859   0.011741   0.157753   0.032529   0.098647   \n",
      "std     0.020868   0.011663   0.013254   0.043046   0.024883   0.065930   \n",
      "min     0.000000   0.000000   0.000000   0.081000   0.000000   0.006000   \n",
      "25%     0.007000   0.005000   0.000000   0.118000   0.016000   0.052000   \n",
      "50%     0.015000   0.010000   0.009000   0.152000   0.027000   0.081000   \n",
      "75%     0.029000   0.020000   0.015000   0.183000   0.044000   0.135000   \n",
      "max     0.108000   0.060000   0.073000   0.276000   0.129000   0.340000   \n",
      "\n",
      "            with      would       your  \n",
      "count  85.000000  85.000000  85.000000  \n",
      "mean    0.079682   0.101718   0.002024  \n",
      "std     0.025680   0.074626   0.009693  \n",
      "min     0.027000   0.009000   0.000000  \n",
      "25%     0.061000   0.042000   0.000000  \n",
      "50%     0.079000   0.078000   0.000000  \n",
      "75%     0.092000   0.147000   0.000000  \n",
      "max     0.150000   0.382000   0.074000  \n",
      "\n",
      "[8 rows x 71 columns]\n"
     ]
    }
   ],
   "source": [
    "# Describe data\n",
    "\n",
    "# sometimes it's important to use dummy variables, e.g.,\n",
    "# df = pd.get_dummies(df, columns=['column'])\n",
    "# or to standardize the dat, e.g., \n",
    "# df = stats.zscore(df_tr['columns'])\n",
    "\n",
    "# are there NAs?\n",
    "fed_paper_train.isna().head() # nope\n",
    "# if there were, I'd replace them with the mean value in the columns:\n",
    "# train.fillna(fed_paper_train2.mean(), inplace=True)\n",
    "# find out statistics of test and train data\n",
    "\n",
    "print(\"***** Describe *****\")\n",
    "print(fed_paper2.describe())"
   ]
  },
  {
   "cell_type": "code",
   "execution_count": 3,
   "metadata": {},
   "outputs": [
    {
     "data": {
      "image/png": "[encoded data removed]",
      "text/plain": [
       "<Figure size 432x288 with 1 Axes>"
      ]
     },
     "metadata": {
      "needs_background": "light"
     },
     "output_type": "display_data"
    }
   ],
   "source": [
    "# elbow method\n",
    "# We will start with simple k-means to get a feel for the data and should need only 4 clusters.\n",
    "# Since Madison, Hamilton, Jay, or Madison & Hamilton are the authors, we want \"disputed\"\" to be clustered into one of the four categories.\n",
    "# But first, let's run the elbow test to check the potential number of clusters and then proceed with k-means clustering.\n",
    "distortions = []\n",
    "K = range(1,7) #arbitarily chosen; just want to get a good idea of how many potential centroids are generated.\n",
    "for k in K:\n",
    "    kmeanModel = KMeans(n_clusters=k).fit(fed_x)\n",
    "    kmeanModel.fit(fed_x)\n",
    "    distortions.append(sum(np.min(cdist(fed_x, kmeanModel.cluster_centers_, 'euclidean'), axis=1)) / fed_x.shape[0])\n",
    "# Plot the elbow\n",
    "plt.plot(K, distortions, 'bx-')\n",
    "plt.xlabel('k')\n",
    "plt.ylabel('Distortion')\n",
    "plt.title('The Elbow Method')\n",
    "plt.show()\n",
    "# the elbow plot indicates certainly 3, and perhaps 4, clusters. We'll go with 4.\n",
    "kmeans = KMeans(n_clusters=4,init='k-means++',max_iter=500,n_init=25,random_state=0) \n",
    "y_kmeans = kmeans.fit_predict(fed_x)\n",
    "fed_x = fed_x.values"
   ]
  },
  {
   "cell_type": "code",
   "execution_count": 4,
   "metadata": {},
   "outputs": [
    {
     "data": {
      "image/png": "[encoded data removed]",
      "text/plain": [
       "<Figure size 432x288 with 1 Axes>"
      ]
     },
     "metadata": {
      "needs_background": "light"
     },
     "output_type": "display_data"
    },
    {
     "data": {
      "text/plain": [
       "array([1, 0, 1, 0, 0, 1, 3, 0, 1, 3, 0, 3, 3, 3, 3, 3, 1, 0, 3, 3, 1, 3,\n",
       "       3, 3, 1, 1, 1, 3, 1, 1, 3, 3, 3, 1, 3, 0, 1, 1, 1, 1, 1, 1, 1, 3,\n",
       "       3, 1, 3, 3, 1, 1, 3, 3, 1, 3, 3, 1, 1, 1, 3, 1, 3, 3, 0, 0, 0, 2,\n",
       "       2, 2, 2, 2, 0, 0, 0, 3, 1, 0, 0, 0, 0, 0, 1, 1, 0, 0, 0])"
      ]
     },
     "execution_count": 4,
     "metadata": {},
     "output_type": "execute_result"
    }
   ],
   "source": [
    "# visualize clusters\n",
    "plt.scatter(fed_x[y_kmeans == 0, 0], fed_x[y_kmeans == 0,1],s=100,c='red',label='Cluster 1')\n",
    "plt.scatter(fed_x[y_kmeans == 1, 0], fed_x[y_kmeans == 1,1],s=100,c='black',label='Cluster 2')\n",
    "plt.scatter(fed_x[y_kmeans == 2, 0], fed_x[y_kmeans == 2,1],s=100,c='blue',label='Cluster 3')\n",
    "plt.scatter(fed_x[y_kmeans == 3, 0], fed_x[y_kmeans == 3,1],s=100,c='green',label='Cluster 4')\n",
    "plt.scatter(kmeans.cluster_centers_[:,0],kmeans.cluster_centers_[:,1],s=500,c='yellow',label='Centroids')\n",
    "plt.title('Clusters of Authors')\n",
    "plt.legend()\n",
    "plt.show()\n",
    "# this is what k-means sees, cluster-wise:\n",
    "kmeans.labels_"
   ]
  },
  {
   "cell_type": "code",
   "execution_count": 7,
   "metadata": {},
   "outputs": [],
   "source": [
    "# Clearly, distinct clusters cannot be viewed visually, but what can be done is to view which authors predominantly correspond to which cluster.\n",
    "y_kmeansdf = pd.DataFrame(y_kmeans)\n",
    "ykmeans_author = pd.concat([fed_y, y_kmeansdf], axis=1, join_axes=[fed_paper2.index])\n",
    "# ykmeans_author = ykmeans_author.values\n",
    "Hamilton_cluster = ykmeans_author.loc[ykmeans_author[\"author\"]==1]\n",
    "Madison_cluster = ykmeans_author.loc[ykmeans_author[\"author\"]==2]\n",
    "Jay_cluster = ykmeans_author.loc[ykmeans_author[\"author\"]==3]\n",
    "HM_cluster = ykmeans_author.loc[ykmeans_author[\"author\"]==4]\n",
    "disp_cluster = ykmeans_author.loc[ykmeans_author[\"author\"]==4]\n"
   ]
  },
  {
   "cell_type": "code",
   "execution_count": 16,
   "metadata": {},
   "outputs": [
    {
     "data": {
      "text/html": [
       "<div>\n",
       "<style scoped>\n",
       "    .dataframe tbody tr th:only-of-type {\n",
       "        vertical-align: middle;\n",
       "    }\n",
       "\n",
       "    .dataframe tbody tr th {\n",
       "        vertical-align: top;\n",
       "    }\n",
       "\n",
       "    .dataframe thead th {\n",
       "        text-align: right;\n",
       "    }\n",
       "</style>\n",
       "<table border=\"1\" class=\"dataframe\">\n",
       "  <thead>\n",
       "    <tr style=\"text-align: right;\">\n",
       "      <th></th>\n",
       "      <th>author</th>\n",
       "      <th>0</th>\n",
       "    </tr>\n",
       "  </thead>\n",
       "  <tbody>\n",
       "    <tr>\n",
       "      <th>0</th>\n",
       "      <td>1</td>\n",
       "      <td>3</td>\n",
       "    </tr>\n",
       "  </tbody>\n",
       "</table>\n",
       "</div>"
      ],
      "text/plain": [
       "   author  0\n",
       "0       1  3"
      ]
     },
     "execution_count": 16,
     "metadata": {},
     "output_type": "execute_result"
    }
   ],
   "source": [
    "# find which author appears most often in each cluster\n",
    "Hamilton_cluster.mode() # Hamilton is cluster 3"
   ]
  },
  {
   "cell_type": "code",
   "execution_count": 10,
   "metadata": {},
   "outputs": [
    {
     "data": {
      "text/html": [
       "<div>\n",
       "<style scoped>\n",
       "    .dataframe tbody tr th:only-of-type {\n",
       "        vertical-align: middle;\n",
       "    }\n",
       "\n",
       "    .dataframe tbody tr th {\n",
       "        vertical-align: top;\n",
       "    }\n",
       "\n",
       "    .dataframe thead th {\n",
       "        text-align: right;\n",
       "    }\n",
       "</style>\n",
       "<table border=\"1\" class=\"dataframe\">\n",
       "  <thead>\n",
       "    <tr style=\"text-align: right;\">\n",
       "      <th></th>\n",
       "      <th>author</th>\n",
       "      <th>0</th>\n",
       "    </tr>\n",
       "  </thead>\n",
       "  <tbody>\n",
       "    <tr>\n",
       "      <th>0</th>\n",
       "      <td>2</td>\n",
       "      <td>0</td>\n",
       "    </tr>\n",
       "  </tbody>\n",
       "</table>\n",
       "</div>"
      ],
      "text/plain": [
       "   author  0\n",
       "0       2  0"
      ]
     },
     "execution_count": 10,
     "metadata": {},
     "output_type": "execute_result"
    }
   ],
   "source": [
    "Madison_cluster.mode() # Madison is cluster 0"
   ]
  },
  {
   "cell_type": "code",
   "execution_count": 11,
   "metadata": {},
   "outputs": [
    {
     "data": {
      "text/html": [
       "<div>\n",
       "<style scoped>\n",
       "    .dataframe tbody tr th:only-of-type {\n",
       "        vertical-align: middle;\n",
       "    }\n",
       "\n",
       "    .dataframe tbody tr th {\n",
       "        vertical-align: top;\n",
       "    }\n",
       "\n",
       "    .dataframe thead th {\n",
       "        text-align: right;\n",
       "    }\n",
       "</style>\n",
       "<table border=\"1\" class=\"dataframe\">\n",
       "  <thead>\n",
       "    <tr style=\"text-align: right;\">\n",
       "      <th></th>\n",
       "      <th>author</th>\n",
       "      <th>0</th>\n",
       "    </tr>\n",
       "  </thead>\n",
       "  <tbody>\n",
       "    <tr>\n",
       "      <th>0</th>\n",
       "      <td>3</td>\n",
       "      <td>2</td>\n",
       "    </tr>\n",
       "  </tbody>\n",
       "</table>\n",
       "</div>"
      ],
      "text/plain": [
       "   author  0\n",
       "0       3  2"
      ]
     },
     "execution_count": 11,
     "metadata": {},
     "output_type": "execute_result"
    }
   ],
   "source": [
    "Jay_cluster.mode() # Jay is cluster 2"
   ]
  },
  {
   "cell_type": "code",
   "execution_count": 14,
   "metadata": {},
   "outputs": [
    {
     "data": {
      "text/html": [
       "<div>\n",
       "<style scoped>\n",
       "    .dataframe tbody tr th:only-of-type {\n",
       "        vertical-align: middle;\n",
       "    }\n",
       "\n",
       "    .dataframe tbody tr th {\n",
       "        vertical-align: top;\n",
       "    }\n",
       "\n",
       "    .dataframe thead th {\n",
       "        text-align: right;\n",
       "    }\n",
       "</style>\n",
       "<table border=\"1\" class=\"dataframe\">\n",
       "  <thead>\n",
       "    <tr style=\"text-align: right;\">\n",
       "      <th></th>\n",
       "      <th>author</th>\n",
       "      <th>0</th>\n",
       "    </tr>\n",
       "  </thead>\n",
       "  <tbody>\n",
       "    <tr>\n",
       "      <th>0</th>\n",
       "      <td>4</td>\n",
       "      <td>0</td>\n",
       "    </tr>\n",
       "  </tbody>\n",
       "</table>\n",
       "</div>"
      ],
      "text/plain": [
       "   author  0\n",
       "0       4  0"
      ]
     },
     "execution_count": 14,
     "metadata": {},
     "output_type": "execute_result"
    }
   ],
   "source": [
    "HM_cluster.mode() # HM is cluster 0"
   ]
  },
  {
   "cell_type": "code",
   "execution_count": 17,
   "metadata": {},
   "outputs": [
    {
     "data": {
      "text/html": [
       "<div>\n",
       "<style scoped>\n",
       "    .dataframe tbody tr th:only-of-type {\n",
       "        vertical-align: middle;\n",
       "    }\n",
       "\n",
       "    .dataframe tbody tr th {\n",
       "        vertical-align: top;\n",
       "    }\n",
       "\n",
       "    .dataframe thead th {\n",
       "        text-align: right;\n",
       "    }\n",
       "</style>\n",
       "<table border=\"1\" class=\"dataframe\">\n",
       "  <thead>\n",
       "    <tr style=\"text-align: right;\">\n",
       "      <th></th>\n",
       "      <th>author</th>\n",
       "      <th>0</th>\n",
       "    </tr>\n",
       "  </thead>\n",
       "  <tbody>\n",
       "    <tr>\n",
       "      <th>0</th>\n",
       "      <td>4</td>\n",
       "      <td>0</td>\n",
       "    </tr>\n",
       "  </tbody>\n",
       "</table>\n",
       "</div>"
      ],
      "text/plain": [
       "   author  0\n",
       "0       4  0"
      ]
     },
     "execution_count": 17,
     "metadata": {},
     "output_type": "execute_result"
    }
   ],
   "source": [
    "disp_cluster.mode() # disp is cluster 0"
   ]
  },
  {
   "cell_type": "code",
   "execution_count": null,
   "metadata": {},
   "outputs": [],
   "source": [
    "# Note that Madison is grouped with Hamilton and Madison.\n",
    "# Thus, our clustering result suggests the disputed papers were written either by Madison or Hamilton and Madison."
   ]
  }
 ],
 "metadata": {
  "kernelspec": {
   "display_name": "Python 3",
   "language": "python",
   "name": "python3"
  },
  "language_info": {
   "codemirror_mode": {
    "name": "ipython",
    "version": 3
   },
   "file_extension": ".py",
   "mimetype": "text/x-python",
   "name": "python",
   "nbconvert_exporter": "python",
   "pygments_lexer": "ipython3",
   "version": "3.7.0"
  }
 },
 "nbformat": 4,
 "nbformat_minor": 2
}
