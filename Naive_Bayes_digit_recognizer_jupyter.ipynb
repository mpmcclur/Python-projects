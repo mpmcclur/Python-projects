{
 "cells": [
  {
   "cell_type": "code",
   "execution_count": 1,
   "metadata": {},
   "outputs": [],
   "source": [
    "import pandas as pd\n",
    "from sklearn.naive_bayes import GaussianNB\n",
    "from sklearn import model_selection\n",
    "from sklearn.metrics import classification_report\n",
    "from sklearn.metrics import confusion_matrix\n",
    "from sklearn.metrics import accuracy_score"
   ]
  },
  {
   "cell_type": "code",
   "execution_count": 2,
   "metadata": {},
   "outputs": [],
   "source": [
    "digit_train = pd.read_csv('Kaggle-digit-train.csv')\n",
    "# Split-out validation dataset\n",
    "array = digit_train.values\n",
    "X = digit_train.drop(['label'],axis=1)\n",
    "Y = digit_train['label']\n",
    "# One-third of data as a part of test set\n",
    "validation_size = 0.33\n",
    "seed = 10\n",
    "X_train, X_validation, Y_train, Y_validation = model_selection.train_test_split(X, Y, test_size=validation_size, random_state=seed)\n",
    "\n",
    "# digit_x_train = digit_train.drop(['label'],axis=1)\n",
    "# digit_y_train = digit_train['label']"
   ]
  },
  {
   "cell_type": "code",
   "execution_count": 3,
   "metadata": {},
   "outputs": [
    {
     "data": {
      "text/plain": [
       "GaussianNB(priors=None)"
      ]
     },
     "execution_count": 3,
     "metadata": {},
     "output_type": "execute_result"
    }
   ],
   "source": [
    "#Initialize Gaussian Naive Bayes\n",
    "clf = GaussianNB()\n",
    "#Fitting the training set\n",
    "clf.fit(X_train, Y_train) "
   ]
  },
  {
   "cell_type": "code",
   "execution_count": 4,
   "metadata": {},
   "outputs": [],
   "source": [
    "#Predicting the model test set\n",
    "pred_clf = clf.predict(X_validation)\n",
    "pred_clf = pd.DataFrame(pred_clf)"
   ]
  },
  {
   "cell_type": "code",
   "execution_count": 5,
   "metadata": {},
   "outputs": [
    {
     "name": "stdout",
     "output_type": "stream",
     "text": [
      "[[29  0  2  1  0  0  1  0 11  0]\n",
      " [ 0 37  0  0  1  1  1  0  1  1]\n",
      " [ 2  0 19  6  0  1  9  1 12  0]\n",
      " [ 1  3  2 13  3  1  3  0 20  1]\n",
      " [ 3  0  1  0 25  2  2  1  2 10]\n",
      " [ 4  1  1  2  3  8  1  0 19  1]\n",
      " [ 2  0  2  0  0  0 42  0  1  0]\n",
      " [ 0  0  0  1  2  1  0 19  0 30]\n",
      " [ 1  7  0  1  1  7  0  0 29  2]\n",
      " [ 0  2  0  0  0  1  0  0  1 41]]\n",
      "             precision    recall  f1-score   support\n",
      "\n",
      "          0       0.69      0.66      0.67        44\n",
      "          1       0.74      0.88      0.80        42\n",
      "          2       0.70      0.38      0.49        50\n",
      "          3       0.54      0.28      0.37        47\n",
      "          4       0.71      0.54      0.62        46\n",
      "          5       0.36      0.20      0.26        40\n",
      "          6       0.71      0.89      0.79        47\n",
      "          7       0.90      0.36      0.51        53\n",
      "          8       0.30      0.60      0.40        48\n",
      "          9       0.48      0.91      0.63        45\n",
      "\n",
      "avg / total       0.62      0.57      0.55       462\n",
      "\n"
     ]
    }
   ],
   "source": [
    "# accuracy score\n",
    "accuracy_train_nb = accuracy_score(Y_train,clf.predict(X_train))\n",
    "accuracy_validation_nb = accuracy_score(Y_validation,pred_clf)\n",
    "accuracy_train_nb # 88% accuracy predicting the variables\n",
    "accuracy_validation_nb # 89% accuracy predicting the outcome (\"label\")\n",
    "print(confusion_matrix(Y_validation,pred_clf)) \n",
    "print(classification_report(Y_validation,pred_clf)) # 62% accuracy"
   ]
  },
  {
   "cell_type": "code",
   "execution_count": 6,
   "metadata": {},
   "outputs": [],
   "source": [
    "# Now we can use this on the real test dataset.\n",
    "digit_test = pd.read_csv('Kaggle-digit-test.csv')\n",
    "digit_y_test = digit_test.drop(['label'],axis=1)\n",
    "pred_test = clf.predict(digit_y_test)\n",
    "pred_test = pd.DataFrame(pred_test)"
   ]
  },
  {
   "cell_type": "code",
   "execution_count": null,
   "metadata": {},
   "outputs": [],
   "source": []
  }
 ],
 "metadata": {
  "kernelspec": {
   "display_name": "Python 3",
   "language": "python",
   "name": "python3"
  },
  "language_info": {
   "codemirror_mode": {
    "name": "ipython",
    "version": 3
   },
   "file_extension": ".py",
   "mimetype": "text/x-python",
   "name": "python",
   "nbconvert_exporter": "python",
   "pygments_lexer": "ipython3",
   "version": "3.7.0"
  }
 },
 "nbformat": 4,
 "nbformat_minor": 2
}
